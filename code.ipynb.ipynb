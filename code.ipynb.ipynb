{
 "cells": [
  {
   "cell_type": "code",
   "execution_count": 38,
   "id": "8d1a55ef-6017-47ce-9cd7-3093afa04be3",
   "metadata": {},
   "outputs": [],
   "source": [
    "df.to_csv(\"cleaned_thailand_accident.csv\", index=False)\n"
   ]
  },
  {
   "cell_type": "code",
   "execution_count": 40,
   "id": "1f965945-7fbb-4067-baee-9d6355befaa0",
   "metadata": {},
   "outputs": [
    {
     "name": "stdout",
     "output_type": "stream",
     "text": [
      "✅ File cleaned and saved as 'cleaned_unemployment_by_education.csv'\n"
     ]
    }
   ],
   "source": [
    "import pandas as pd\n",
    "\n",
    "# STEP 1: Load the dataset\n",
    "df = pd.read_csv(\"Unemployment Rates by Education.csv\", dtype=str, low_memory=False)\n",
    "\n",
    "# STEP 2: Clean the data\n",
    "df.columns = df.columns.str.strip()              # Clean column names\n",
    "df.drop_duplicates(inplace=True)                 # Remove duplicate rows\n",
    "\n",
    "# Convert possible date columns or year columns to correct types\n",
    "if 'Year' in df.columns:\n",
    "    df['Year'] = pd.to_numeric(df['Year'], errors='coerce')\n",
    "\n",
    "# Trim whitespace from all string columns\n",
    "for col in df.select_dtypes(include='object').columns:\n",
    "    df[col] = df[col].str.strip()\n",
    "\n",
    "# STEP 3: Reset index\n",
    "df.reset_index(drop=True, inplace=True)\n",
    "\n",
    "# STEP 4: Save the cleaned dataset\n",
    "df.to_csv(\"cleaned_unemployment_by_education.csv\", index=False)\n",
    "print(\"✅ File cleaned and saved as 'cleaned_unemployment_by_education.csv'\")\n",
    "\n"
   ]
  },
  {
   "cell_type": "code",
   "execution_count": null,
   "id": "eec2b355-4546-464e-8459-b008cdfd2df6",
   "metadata": {},
   "outputs": [],
   "source": []
  }
 ],
 "metadata": {
  "kernelspec": {
   "display_name": "Python [conda env:base] *",
   "language": "python",
   "name": "conda-base-py"
  },
  "language_info": {
   "codemirror_mode": {
    "name": "ipython",
    "version": 3
   },
   "file_extension": ".py",
   "mimetype": "text/x-python",
   "name": "python",
   "nbconvert_exporter": "python",
   "pygments_lexer": "ipython3",
   "version": "3.12.7"
  }
 },
 "nbformat": 4,
 "nbformat_minor": 5
}
